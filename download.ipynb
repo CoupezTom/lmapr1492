{
 "cells": [
  {
   "cell_type": "code",
   "execution_count": 3,
   "id": "vertical-hypothesis",
   "metadata": {},
   "outputs": [
    {
     "name": "stdout",
     "output_type": "stream",
     "text": [
      "Full Formula (Rb1 Sm1 S2)\n",
      "Reduced Formula: RbSmS2\n",
      "abc   :   8.072111   8.072111   8.072111\n",
      "angles:  29.964851  29.964851  29.964846\n",
      "Sites (4)\n",
      "  #  SP           a         b         c    magmom\n",
      "---  ----  --------  --------  --------  --------\n",
      "  0  Rb    0         0         0                0\n",
      "  1  Sm    0.5       0.5       0.5             -0\n",
      "  2  S     0.768242  0.768242  0.768242        -0\n",
      "  3  S     0.231758  0.231758  0.231758        -0\n"
     ]
    }
   ],
   "source": [
    "from pymatgen.ext.matproj import MPRester \n",
    "from pymatgen.core.structure import Structure \n",
    "with MPRester (\"ozHTdwh3TX0utQzQ\") as m: \n",
    "    #Structure for mp-9366\n",
    "    structure = m.get_structure_by_material_id(\"mp-9364\")\n",
    "    structure.to(filename = \"RbSmS2.cif\")\n",
    "print(structure)"
   ]
  },
  {
   "cell_type": "code",
   "execution_count": null,
   "id": "legal-victor",
   "metadata": {},
   "outputs": [],
   "source": []
  }
 ],
 "metadata": {
  "kernelspec": {
   "display_name": "Python 3",
   "language": "python",
   "name": "python3"
  },
  "language_info": {
   "codemirror_mode": {
    "name": "ipython",
    "version": 3
   },
   "file_extension": ".py",
   "mimetype": "text/x-python",
   "name": "python",
   "nbconvert_exporter": "python",
   "pygments_lexer": "ipython3",
   "version": "3.6.8"
  }
 },
 "nbformat": 4,
 "nbformat_minor": 5
}
