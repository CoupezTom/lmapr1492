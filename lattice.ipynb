{
 "cells": [
  {
   "cell_type": "code",
   "execution_count": 1,
   "id": "extended-browse",
   "metadata": {},
   "outputs": [],
   "source": [
    "#On importe tous les packages nécessaires\n",
    "\n",
    "from pymatgen.ext.matproj import MPRester\n",
    "from pymatgen.symmetry.analyzer import SpacegroupAnalyzer\n",
    "from pymatgen.core.lattice import Lattice\n"
   ]
  },
  {
   "cell_type": "code",
   "execution_count": 6,
   "id": "subsequent-intranet",
   "metadata": {},
   "outputs": [],
   "source": [
    "with MPRester (\"ozHTdwh3TX0utQzQ\") as m:\n",
    "    #On crée notre stucture sur base du fichier MP\n",
    "    Structure = m.get_structure_by_material_id(\"mp-9364\")\n",
    "    \n",
    "    #Primitive \n",
    "    PrimitiveStructure = SpacegroupAnalyzer(Structure).get_primitive_standard_structure()\n",
    "    \n",
    "    #Lattice \n",
    "    Lattice = PrimitiveStructure.lattice \n",
    "    \n",
    "    #Pour nous permettre de trouver le groupe ponctuel par la suite :\n",
    "    SPAnalyzer = SpacegroupAnalyzer(PrimitiveStructure) \n",
    "    "
   ]
  },
  {
   "cell_type": "markdown",
   "id": "twenty-brief",
   "metadata": {},
   "source": [
    "<font color='blue'> On nous demande d'obtenir les vecteurs du réseau direct, les vecteurs du réseau réciproque, le type de maille, le système cristallin, et le groupe ponctuel. On va donc rechercher les vecteurs de base et les angles pour les réseaux directs et réciproques. Ces renseignements peuvent être obtenus via les commandes suivantes. "
   ]
  },
  {
   "cell_type": "code",
   "execution_count": 10,
   "id": "alone-slope",
   "metadata": {},
   "outputs": [],
   "source": [
    "# Pour obtenir les vecteurs du réseau direct \n",
    "a = Lattice.a\n",
    "b = Lattice.b\n",
    "c = Lattice.c\n",
    "\n",
    "# Pour obtenir les angles du réseau direct\n",
    "alpha = Lattice.alpha\n",
    "beta = Lattice.beta\n",
    "gamma = Lattice.gamma\n",
    "\n",
    "# Pour obtenir les vecteurs du réseau réciproque \n",
    "Recip = Lattice.reciprocal_lattice\n",
    "a_star = Recip.a\n",
    "b_star = Recip.b\n",
    "c_star = Recip.c\n",
    "\n",
    "alpha_star = Recip.alpha\n",
    "beta_star = Recip.beta\n",
    "gamma_star = Recip.gamma\n",
    "\n",
    "# Pour obtenir le type de maille\n",
    "Maille = SPAnalyzer.get_lattice_type()\n",
    "\n",
    "\n",
    "# Pour obtenir le système cristallin\n",
    "SystemC = SPAnalyzer.get_crystal_system()\n",
    "\n",
    "\n",
    "#Pour obtenir le groupe ponctuel\n",
    "GroupePonctuel = SPAnalyzer.get_point_group_symbol()"
   ]
  },
  {
   "cell_type": "markdown",
   "id": "numerous-permit",
   "metadata": {},
   "source": [
    "<font color='blue'> Pour visualiser nos résultats, on peut imprimer le tout. "
   ]
  },
  {
   "cell_type": "code",
   "execution_count": 12,
   "id": "sunrise-private",
   "metadata": {},
   "outputs": [
    {
     "name": "stdout",
     "output_type": "stream",
     "text": [
      "\n",
      " Vecteurs et angles du réseau direct :\n",
      " a = \t 8.072110961462649 \n",
      " b = \t 8.072110961462649 \n",
      " c = \t 8.072110961462649 \n",
      " alpha = \t 29.964848545571364 \n",
      " beta = \t 29.964848545571364 \n",
      " gamma = \t 29.964848545571364\n",
      "\n",
      " Vecteurs et angles du réseau réciproque :\n",
      " a* = \t 1.759463840624715 \n",
      " b* = \t 1.759463840624715 \n",
      " c* = \t 1.7594638406247156 \n",
      " alpha* = \t 117.65779017185487 \n",
      " beta* = \t 117.65779017185487 \n",
      " gamma* = \t 117.65779017185487\n",
      "\n",
      " Type de maille :\t rhombohedral\n",
      "\n",
      " Système cristallin :\t trigonal\n",
      "\n",
      " Groupe ponctuel :\t -3m\n"
     ]
    }
   ],
   "source": [
    "print(\"\\n Vecteurs et angles du réseau direct :\\n\", \"a = \\t\",a,\"\\n b = \\t\",b,\"\\n c = \\t\",c, \"\\n alpha = \\t\",alpha, \"\\n beta = \\t\",beta, \"\\n gamma = \\t\", gamma)\n",
    "\n",
    "print(\"\\n Vecteurs et angles du réseau réciproque :\\n\", \"a* = \\t\",a_star,\"\\n b* = \\t\",b_star,\"\\n c* = \\t\",c_star, \"\\n alpha* = \\t\",alpha_star, \"\\n beta* = \\t\",beta_star, \"\\n gamma* = \\t\", gamma_star)\n",
    "\n",
    "\n",
    "print(\"\\n Type de maille :\\t\",Maille)\n",
    "\n",
    "print(\"\\n Système cristallin :\\t\",SystemC)\n",
    "\n",
    "print(\"\\n Groupe ponctuel :\\t\",GroupePonctuel)"
   ]
  },
  {
   "cell_type": "code",
   "execution_count": null,
   "id": "elementary-administrator",
   "metadata": {},
   "outputs": [],
   "source": []
  }
 ],
 "metadata": {
  "kernelspec": {
   "display_name": "Python 3",
   "language": "python",
   "name": "python3"
  },
  "language_info": {
   "codemirror_mode": {
    "name": "ipython",
    "version": 3
   },
   "file_extension": ".py",
   "mimetype": "text/x-python",
   "name": "python",
   "nbconvert_exporter": "python",
   "pygments_lexer": "ipython3",
   "version": "3.6.8"
  }
 },
 "nbformat": 4,
 "nbformat_minor": 5
}
