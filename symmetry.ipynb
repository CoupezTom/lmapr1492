{
 "cells": [
  {
   "cell_type": "code",
   "execution_count": 32,
   "id": "better-german",
   "metadata": {},
   "outputs": [],
   "source": [
    "#Import\n",
    "\n",
    "from pymatgen.ext.matproj import MPRester\n",
    "from pymatgen.symmetry.analyzer import SpacegroupAnalyzer\n",
    "import numpy as np\n",
    "import matplotlib.pyplot as plt\n",
    "import matplotlib.image as mpimg\n",
    "from jupyter_jsmol import JsmolView"
   ]
  },
  {
   "cell_type": "markdown",
   "id": "competent-crime",
   "metadata": {},
   "source": [
    "#### On récupère la structure de notre matériaux."
   ]
  },
  {
   "cell_type": "code",
   "execution_count": 33,
   "id": "distinct-yorkshire",
   "metadata": {},
   "outputs": [],
   "source": [
    "with MPRester (\"ozHTdwh3TX0utQzQ\") as m:\n",
    "    #On crée notre stucture sur base du fichier MP\n",
    "    Structure = m.get_structure_by_material_id(\"mp-9364\")"
   ]
  },
  {
   "cell_type": "code",
   "execution_count": 34,
   "id": "indirect-status",
   "metadata": {},
   "outputs": [],
   "source": [
    "#Les variables dont on a besoin : \n",
    "\n",
    "Conv_Structure = SpacegroupAnalyzer(Structure).get_conventional_standard_structure()\n",
    "\n",
    "SPanalyzer = SpacegroupAnalyzer(Conv_Structure)\n",
    "\n",
    "Symm = SPanalyzer.get_symmetry_operations()\n"
   ]
  },
  {
   "cell_type": "markdown",
   "id": "smoking-trance",
   "metadata": {},
   "source": [
    " #### On va maintenant étudier les effets de différentes symétries sur les atomes du cristal. Les coordonnées seront données en coordonnées absolues."
   ]
  },
  {
   "cell_type": "markdown",
   "id": "domestic-wonder",
   "metadata": {},
   "source": [
    "## Symétrie 1 : Symétrie de translation sur l'atome de Rb en [0, 0, 0] :\n",
    "\n",
    "#### Equation : \n",
    "\n",
    "\n",
    "\n"
   ]
  },
  {
   "cell_type": "code",
   "execution_count": 35,
   "id": "encouraging-browse",
   "metadata": {},
   "outputs": [
    {
     "name": "stdout",
     "output_type": "stream",
     "text": [
      "\n",
      " [[1. 0. 0.]\n",
      " [0. 1. 0.]\n",
      " [0. 0. 1.]] [0,0,0] + [0.66666667 0.33333333 0.33333333] = [0.66666667 0.33333333 0.33333333]\n"
     ]
    }
   ],
   "source": [
    "print('\\n',Symm[12].rotation_matrix,\"[0,0,0]\",\"+\",Symm[12].translation_vector,\"=\",Symm[12].operate([0,0,0]))\n"
   ]
  },
  {
   "cell_type": "markdown",
   "id": "occupied-macedonia",
   "metadata": {},
   "source": [
    "On a donc [2/3, 1/3, 1/3] comme coordonnées d'arrivée. \n",
    "\n",
    "#### Illustration :\n",
    "\n",
    "<img src =\"Translation.jpg\" style = \"width:600px; height:600px\"/>\n"
   ]
  },
  {
   "cell_type": "markdown",
   "id": "considerable-memorial",
   "metadata": {},
   "source": [
    "## Symétrie 2 : Rotation l'atome de Sm en [0, 0, 0.5] par rapport a un axe d'ordre 2 :\n",
    "\n",
    "#### Equation : \n",
    "\n",
    "\n",
    "\n"
   ]
  },
  {
   "cell_type": "code",
   "execution_count": 36,
   "id": "referenced-principal",
   "metadata": {},
   "outputs": [
    {
     "name": "stdout",
     "output_type": "stream",
     "text": [
      "\n",
      " [[ 1. -1.  0.]\n",
      " [ 0. -1.  0.]\n",
      " [ 0.  0. -1.]] [0,0,0.5] + [0. 0. 0.] = [ 0.   0.  -0.5]\n"
     ]
    }
   ],
   "source": [
    "print('\\n',Symm[8].rotation_matrix,\"[0,0,0.5]\",\"+\",Symm[8].translation_vector,\"=\",Symm[8].operate([0,0,0.5]))"
   ]
  },
  {
   "cell_type": "markdown",
   "id": "frequent-occupation",
   "metadata": {},
   "source": [
    "On a donc [0, 0, -0.5] comme coordonnées d'arrivée. \n",
    "\n",
    "#### Illustration :\n",
    "\n",
    "<img src =\"C2 Axis.jpg\" style = \"width:600px; height:600px\"/>\n"
   ]
  },
  {
   "cell_type": "markdown",
   "id": "transparent-google",
   "metadata": {},
   "source": [
    "## Symétrie 3 : Plan miroir pour l'atome de S en [0, 1, 0.23] :\n",
    "\n",
    "#### Equation : \n",
    "\n",
    "\n",
    "\n"
   ]
  },
  {
   "cell_type": "code",
   "execution_count": 37,
   "id": "hollywood-cycling",
   "metadata": {},
   "outputs": [
    {
     "name": "stdout",
     "output_type": "stream",
     "text": [
      "\n",
      " [[ 1.  0.  0.]\n",
      " [ 1. -1.  0.]\n",
      " [ 0.  0.  1.]] [0,1,0.23] + [0. 0. 0.] = [ 0.   -1.    0.23]\n"
     ]
    }
   ],
   "source": [
    "print('\\n',Symm[11].rotation_matrix,\"[0,1,0.23]\",\"+\",Symm[11].translation_vector,\"=\",Symm[11].operate([0,1,0.23]))"
   ]
  },
  {
   "cell_type": "markdown",
   "id": "behavioral-alfred",
   "metadata": {},
   "source": [
    "On a donc [0, -1, -0.23] comme coordonnées d'arrivée. Ce qu'on peut effectivement observer sur l'illustration qui suit.\n",
    "\n",
    "#### Illustration :\n",
    "\n",
    "<img src =\"Mirror.jpg\" style = \"width:600px; height:600px\"/>\n"
   ]
  },
  {
   "cell_type": "code",
   "execution_count": null,
   "id": "spare-product",
   "metadata": {},
   "outputs": [],
   "source": []
  },
  {
   "cell_type": "code",
   "execution_count": null,
   "id": "informed-profession",
   "metadata": {},
   "outputs": [],
   "source": []
  }
 ],
 "metadata": {
  "kernelspec": {
   "display_name": "Python 3",
   "language": "python",
   "name": "python3"
  },
  "language_info": {
   "codemirror_mode": {
    "name": "ipython",
    "version": 3
   },
   "file_extension": ".py",
   "mimetype": "text/x-python",
   "name": "python",
   "nbconvert_exporter": "python",
   "pygments_lexer": "ipython3",
   "version": "3.6.8"
  }
 },
 "nbformat": 4,
 "nbformat_minor": 5
}
